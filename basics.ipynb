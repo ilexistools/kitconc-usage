{
  "nbformat": 4,
  "nbformat_minor": 0,
  "metadata": {
    "colab": {
      "name": "basics.ipynb",
      "provenance": [],
      "collapsed_sections": [],
      "authorship_tag": "ABX9TyOU4BIdKmDPN7O3ncxalwQd",
      "include_colab_link": true
    },
    "kernelspec": {
      "name": "python3",
      "display_name": "Python 3"
    },
    "language_info": {
      "name": "python"
    }
  },
  "cells": [
    {
      "cell_type": "markdown",
      "metadata": {
        "id": "view-in-github",
        "colab_type": "text"
      },
      "source": [
        "<a href=\"https://colab.research.google.com/github/ilexistools/kitconc-usage/blob/main/basics.ipynb\" target=\"_parent\"><img src=\"https://colab.research.google.com/assets/colab-badge.svg\" alt=\"Open In Colab\"/></a>"
      ]
    },
    {
      "cell_type": "markdown",
      "metadata": {
        "id": "2XQcSAVYUpuA"
      },
      "source": [
        "# **Kitconc usage**\n",
        "\n",
        "Kitconc is a free package for Corpus Linguistics and text analysis with Python.\n",
        "\n",
        "It contains, among other things, tools for creating:\n",
        "\n",
        "* Corpora;\n",
        "* Frequency wordlists;\n",
        "* Keywords;\n",
        "* Concordance lines;\n",
        "* Collocates;\n",
        "* N-gram lists;\n",
        "* Dispersion plots;\n",
        "* Excel data files.\n",
        "\n",
        "The package is built on top of platforms and packages for scientific research: numpy, nltk, pandas, xlsxwriter."
      ]
    },
    {
      "cell_type": "markdown",
      "metadata": {
        "id": "kkEoKRVUV0A3"
      },
      "source": [
        "## **1. Install kitconc**\n",
        "\n",
        "We can use *pip* to install it:"
      ]
    },
    {
      "cell_type": "code",
      "metadata": {
        "id": "YwrQhVROTm61"
      },
      "source": [
        "!pip install kitconc"
      ],
      "execution_count": null,
      "outputs": []
    },
    {
      "cell_type": "markdown",
      "metadata": {
        "id": "52maG16nWn8_"
      },
      "source": [
        "## **2. Import modules**\n",
        "\n",
        "These are the main modules we are going to use:\n"
      ]
    },
    {
      "cell_type": "code",
      "metadata": {
        "id": "nlGYHObBTuU2"
      },
      "source": [
        "from kitconc.kit_corpus import Corpora, Corpus\n"
      ],
      "execution_count": 3,
      "outputs": []
    },
    {
      "cell_type": "markdown",
      "metadata": {
        "id": "6qqvaJb8XBjs"
      },
      "source": [
        "## **3. Create a corpus**\n",
        "\n",
        "Here, we create a new corpus from raw texts:\n"
      ]
    },
    {
      "cell_type": "code",
      "metadata": {
        "id": "0G3F5yhvXjkJ"
      },
      "source": [
        "# creates/sets a workspace folder\n",
        "corpora = Corpora('workspace')\n",
        "\n",
        "# downloads raw texts\n",
        "url = 'https://github.com/ilexistools/kitconc-usage/raw/main/raw_ads.zip'\n",
        "corpora.download_raw_texts(url) # unzips to 'ads' folder\n",
        "\n",
        "# creates a new corpus from raw texts\n",
        "if 'jobs' not in corpora.list_all():\n",
        "  corpus = corpora.create('jobs','english','ads') \n"
      ],
      "execution_count": 21,
      "outputs": []
    },
    {
      "cell_type": "markdown",
      "metadata": {
        "id": "nGOZc6Txn7bM"
      },
      "source": [
        "## **4. Import a corpus**\n",
        "\n",
        "Import a created corpus (the same corpus as in '3') from a url:\n"
      ]
    },
    {
      "cell_type": "code",
      "metadata": {
        "id": "iK0uQ7Zooaf5"
      },
      "source": [
        "# creates/sets a workspace folder\n",
        "corpora = Corpora('workspace')\n",
        "\n",
        "# import corpus from url\n",
        "url = 'https://github.com/ilexistools/kitconc-usage/raw/main/jobs.zip'\n",
        "if 'jobs' not in corpora.list_all():\n",
        " corpora.import_corpus_from_url(url)\n",
        "\n",
        "# open imported corpus \n",
        "corpus = corpora.open('jobs')\n"
      ],
      "execution_count": 26,
      "outputs": []
    },
    {
      "cell_type": "markdown",
      "metadata": {
        "id": "i1KyZodKpfyb"
      },
      "source": [
        "## **5. Wordlist - Frequency**"
      ]
    },
    {
      "cell_type": "code",
      "metadata": {
        "colab": {
          "base_uri": "https://localhost:8080/",
          "height": 357
        },
        "id": "4DYmlHwEppd9",
        "outputId": "f0d0ebc5-ba77-49e8-dc0f-6810eaf52a24"
      },
      "source": [
        "# create the wordlist\n",
        "wordlist = corpus.wordlist()\n",
        "# save to Excel\n",
        "wordlist.save_excel('wordlist.xlsx')\n",
        "# print the 10 most frequent words on screen\n",
        "wordlist.df.head(10) \n",
        "\n",
        "\n"
      ],
      "execution_count": 30,
      "outputs": [
        {
          "output_type": "execute_result",
          "data": {
            "text/html": [
              "<div>\n",
              "<style scoped>\n",
              "    .dataframe tbody tr th:only-of-type {\n",
              "        vertical-align: middle;\n",
              "    }\n",
              "\n",
              "    .dataframe tbody tr th {\n",
              "        vertical-align: top;\n",
              "    }\n",
              "\n",
              "    .dataframe thead th {\n",
              "        text-align: right;\n",
              "    }\n",
              "</style>\n",
              "<table border=\"1\" class=\"dataframe\">\n",
              "  <thead>\n",
              "    <tr style=\"text-align: right;\">\n",
              "      <th></th>\n",
              "      <th>N</th>\n",
              "      <th>WORD</th>\n",
              "      <th>FREQUENCY</th>\n",
              "      <th>%</th>\n",
              "    </tr>\n",
              "  </thead>\n",
              "  <tbody>\n",
              "    <tr>\n",
              "      <th>0</th>\n",
              "      <td>1</td>\n",
              "      <td>and</td>\n",
              "      <td>1383</td>\n",
              "      <td>5.05</td>\n",
              "    </tr>\n",
              "    <tr>\n",
              "      <th>1</th>\n",
              "      <td>2</td>\n",
              "      <td>to</td>\n",
              "      <td>691</td>\n",
              "      <td>2.52</td>\n",
              "    </tr>\n",
              "    <tr>\n",
              "      <th>2</th>\n",
              "      <td>3</td>\n",
              "      <td>the</td>\n",
              "      <td>627</td>\n",
              "      <td>2.29</td>\n",
              "    </tr>\n",
              "    <tr>\n",
              "      <th>3</th>\n",
              "      <td>4</td>\n",
              "      <td>of</td>\n",
              "      <td>540</td>\n",
              "      <td>1.97</td>\n",
              "    </tr>\n",
              "    <tr>\n",
              "      <th>4</th>\n",
              "      <td>5</td>\n",
              "      <td>a</td>\n",
              "      <td>423</td>\n",
              "      <td>1.55</td>\n",
              "    </tr>\n",
              "    <tr>\n",
              "      <th>5</th>\n",
              "      <td>6</td>\n",
              "      <td>in</td>\n",
              "      <td>410</td>\n",
              "      <td>1.50</td>\n",
              "    </tr>\n",
              "    <tr>\n",
              "      <th>6</th>\n",
              "      <td>7</td>\n",
              "      <td>for</td>\n",
              "      <td>304</td>\n",
              "      <td>1.11</td>\n",
              "    </tr>\n",
              "    <tr>\n",
              "      <th>7</th>\n",
              "      <td>8</td>\n",
              "      <td>with</td>\n",
              "      <td>292</td>\n",
              "      <td>1.07</td>\n",
              "    </tr>\n",
              "    <tr>\n",
              "      <th>8</th>\n",
              "      <td>9</td>\n",
              "      <td>is</td>\n",
              "      <td>207</td>\n",
              "      <td>0.76</td>\n",
              "    </tr>\n",
              "    <tr>\n",
              "      <th>9</th>\n",
              "      <td>10</td>\n",
              "      <td>experience</td>\n",
              "      <td>198</td>\n",
              "      <td>0.72</td>\n",
              "    </tr>\n",
              "  </tbody>\n",
              "</table>\n",
              "</div>"
            ],
            "text/plain": [
              "    N        WORD  FREQUENCY     %\n",
              "0   1         and       1383  5.05\n",
              "1   2          to        691  2.52\n",
              "2   3         the        627  2.29\n",
              "3   4          of        540  1.97\n",
              "4   5           a        423  1.55\n",
              "5   6          in        410  1.50\n",
              "6   7         for        304  1.11\n",
              "7   8        with        292  1.07\n",
              "8   9          is        207  0.76\n",
              "9  10  experience        198  0.72"
            ]
          },
          "metadata": {
            "tags": []
          },
          "execution_count": 30
        }
      ]
    }
  ]
}