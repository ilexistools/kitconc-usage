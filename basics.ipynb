{
  "nbformat": 4,
  "nbformat_minor": 0,
  "metadata": {
    "colab": {
      "name": "basics.ipynb",
      "provenance": [],
      "collapsed_sections": [],
      "authorship_tag": "ABX9TyMK9enPq/L3578/ZADQzoDK",
      "include_colab_link": true
    },
    "kernelspec": {
      "name": "python3",
      "display_name": "Python 3"
    },
    "language_info": {
      "name": "python"
    }
  },
  "cells": [
    {
      "cell_type": "markdown",
      "metadata": {
        "id": "view-in-github",
        "colab_type": "text"
      },
      "source": [
        "<a href=\"https://colab.research.google.com/github/ilexistools/kitconc-usage/blob/main/basics.ipynb\" target=\"_parent\"><img src=\"https://colab.research.google.com/assets/colab-badge.svg\" alt=\"Open In Colab\"/></a>"
      ]
    },
    {
      "cell_type": "markdown",
      "metadata": {
        "id": "2XQcSAVYUpuA"
      },
      "source": [
        "# **Kitconc usage**\n",
        "\n",
        "Kitconc is a free package for Corpus Linguistics and text analysis with Python.\n",
        "\n",
        "It contains, among other things, tools for creating:\n",
        "\n",
        "* Corpora;\n",
        "* Frequency wordlists;\n",
        "* Keywords;\n",
        "* Concordance lines;\n",
        "* Collocates;\n",
        "* N-gram lists;\n",
        "* Dispersion plots;\n",
        "* Excel data files.\n",
        "\n",
        "The package is built on top of platforms and packages for scientific research: numpy, nltk, pandas, xlsxwriter."
      ]
    },
    {
      "cell_type": "markdown",
      "metadata": {
        "id": "kkEoKRVUV0A3"
      },
      "source": [
        "## **1. Install kitconc**\n",
        "\n",
        "We can use *pip* to install it:"
      ]
    },
    {
      "cell_type": "code",
      "metadata": {
        "id": "YwrQhVROTm61"
      },
      "source": [
        "!pip install kitconc"
      ],
      "execution_count": null,
      "outputs": []
    },
    {
      "cell_type": "markdown",
      "metadata": {
        "id": "52maG16nWn8_"
      },
      "source": [
        "## **2. Import modules**\n",
        "\n",
        "These are the main modules we are going to use:\n"
      ]
    },
    {
      "cell_type": "code",
      "metadata": {
        "id": "nlGYHObBTuU2"
      },
      "source": [
        "from kitconc.kit_corpus import Corpora, Corpus\n"
      ],
      "execution_count": 3,
      "outputs": []
    },
    {
      "cell_type": "markdown",
      "metadata": {
        "id": "6qqvaJb8XBjs"
      },
      "source": [
        "## **3. Create a corpus**\n",
        "\n",
        "Here, we create a new corpus from raw texts:\n"
      ]
    },
    {
      "cell_type": "code",
      "metadata": {
        "id": "0G3F5yhvXjkJ"
      },
      "source": [
        "# creates/sets a workspace folder\n",
        "corpora = Corpora('workspace')\n",
        "\n",
        "# downloads raw texts\n",
        "url = 'https://github.com/ilexistools/kitconc-usage/raw/main/raw_ads.zip'\n",
        "corpora.download_raw_texts(url) # unzips to 'ads' folder\n",
        "\n",
        "# creates a new corpus from raw texts\n",
        "if 'jobs' not in corpora.list_all():\n",
        "  corpus = corpora.create('jobs','english','ads') \n"
      ],
      "execution_count": 21,
      "outputs": []
    },
    {
      "cell_type": "markdown",
      "metadata": {
        "id": "nGOZc6Txn7bM"
      },
      "source": [
        "## **4. Import a corpus**\n",
        "\n",
        "Import a created corpus (the same corpus as in '3') from a url:\n"
      ]
    },
    {
      "cell_type": "code",
      "metadata": {
        "id": "iK0uQ7Zooaf5"
      },
      "source": [
        "# creates/sets a workspace folder\n",
        "corpora = Corpora('workspace')\n",
        "\n",
        "# import corpus from url\n",
        "url = 'https://github.com/ilexistools/kitconc-usage/raw/main/jobs.zip'\n",
        "if 'jobs' not in corpora.list_all():\n",
        " corpora.import_corpus_from_url(url)\n",
        "\n",
        "# open imported corpus \n",
        "corpus = corpora.open('jobs')\n"
      ],
      "execution_count": 26,
      "outputs": []
    },
    {
      "cell_type": "markdown",
      "metadata": {
        "id": "i1KyZodKpfyb"
      },
      "source": [
        "## **5. Wordlist - Frequency**"
      ]
    },
    {
      "cell_type": "code",
      "metadata": {
        "colab": {
          "base_uri": "https://localhost:8080/",
          "height": 357
        },
        "id": "4DYmlHwEppd9",
        "outputId": "f0d0ebc5-ba77-49e8-dc0f-6810eaf52a24"
      },
      "source": [
        "# create the wordlist\n",
        "wordlist = corpus.wordlist()\n",
        "# save to Excel\n",
        "wordlist.save_excel('wordlist.xlsx')\n",
        "# print the 10 most frequent words on screen\n",
        "wordlist.df.head(10) \n",
        "\n",
        "\n"
      ],
      "execution_count": 30,
      "outputs": [
        {
          "output_type": "execute_result",
          "data": {
            "text/html": [
              "<div>\n",
              "<style scoped>\n",
              "    .dataframe tbody tr th:only-of-type {\n",
              "        vertical-align: middle;\n",
              "    }\n",
              "\n",
              "    .dataframe tbody tr th {\n",
              "        vertical-align: top;\n",
              "    }\n",
              "\n",
              "    .dataframe thead th {\n",
              "        text-align: right;\n",
              "    }\n",
              "</style>\n",
              "<table border=\"1\" class=\"dataframe\">\n",
              "  <thead>\n",
              "    <tr style=\"text-align: right;\">\n",
              "      <th></th>\n",
              "      <th>N</th>\n",
              "      <th>WORD</th>\n",
              "      <th>FREQUENCY</th>\n",
              "      <th>%</th>\n",
              "    </tr>\n",
              "  </thead>\n",
              "  <tbody>\n",
              "    <tr>\n",
              "      <th>0</th>\n",
              "      <td>1</td>\n",
              "      <td>and</td>\n",
              "      <td>1383</td>\n",
              "      <td>5.05</td>\n",
              "    </tr>\n",
              "    <tr>\n",
              "      <th>1</th>\n",
              "      <td>2</td>\n",
              "      <td>to</td>\n",
              "      <td>691</td>\n",
              "      <td>2.52</td>\n",
              "    </tr>\n",
              "    <tr>\n",
              "      <th>2</th>\n",
              "      <td>3</td>\n",
              "      <td>the</td>\n",
              "      <td>627</td>\n",
              "      <td>2.29</td>\n",
              "    </tr>\n",
              "    <tr>\n",
              "      <th>3</th>\n",
              "      <td>4</td>\n",
              "      <td>of</td>\n",
              "      <td>540</td>\n",
              "      <td>1.97</td>\n",
              "    </tr>\n",
              "    <tr>\n",
              "      <th>4</th>\n",
              "      <td>5</td>\n",
              "      <td>a</td>\n",
              "      <td>423</td>\n",
              "      <td>1.55</td>\n",
              "    </tr>\n",
              "    <tr>\n",
              "      <th>5</th>\n",
              "      <td>6</td>\n",
              "      <td>in</td>\n",
              "      <td>410</td>\n",
              "      <td>1.50</td>\n",
              "    </tr>\n",
              "    <tr>\n",
              "      <th>6</th>\n",
              "      <td>7</td>\n",
              "      <td>for</td>\n",
              "      <td>304</td>\n",
              "      <td>1.11</td>\n",
              "    </tr>\n",
              "    <tr>\n",
              "      <th>7</th>\n",
              "      <td>8</td>\n",
              "      <td>with</td>\n",
              "      <td>292</td>\n",
              "      <td>1.07</td>\n",
              "    </tr>\n",
              "    <tr>\n",
              "      <th>8</th>\n",
              "      <td>9</td>\n",
              "      <td>is</td>\n",
              "      <td>207</td>\n",
              "      <td>0.76</td>\n",
              "    </tr>\n",
              "    <tr>\n",
              "      <th>9</th>\n",
              "      <td>10</td>\n",
              "      <td>experience</td>\n",
              "      <td>198</td>\n",
              "      <td>0.72</td>\n",
              "    </tr>\n",
              "  </tbody>\n",
              "</table>\n",
              "</div>"
            ],
            "text/plain": [
              "    N        WORD  FREQUENCY     %\n",
              "0   1         and       1383  5.05\n",
              "1   2          to        691  2.52\n",
              "2   3         the        627  2.29\n",
              "3   4          of        540  1.97\n",
              "4   5           a        423  1.55\n",
              "5   6          in        410  1.50\n",
              "6   7         for        304  1.11\n",
              "7   8        with        292  1.07\n",
              "8   9          is        207  0.76\n",
              "9  10  experience        198  0.72"
            ]
          },
          "metadata": {
            "tags": []
          },
          "execution_count": 30
        }
      ]
    },
    {
      "cell_type": "code",
      "metadata": {
        "colab": {
          "base_uri": "https://localhost:8080/"
        },
        "id": "-4XvPkYq1zYe",
        "outputId": "d38ff4bb-7875-4ea5-dd97-302fe76b6d74"
      },
      "source": [
        "# print corpus info\n",
        "labels = ['Tokens','Types','TTR','Hapax']\n",
        "for i in range(0,4):\n",
        "  print( labels[i] + ':' + str(corpus.info()[i]))\n"
      ],
      "execution_count": 35,
      "outputs": [
        {
          "output_type": "stream",
          "text": [
            "Tokens:27378\n",
            "Types:4467\n",
            "TTR:16.316020965576172\n",
            "Hapax:2370\n"
          ],
          "name": "stdout"
        }
      ]
    },
    {
      "cell_type": "markdown",
      "metadata": {
        "id": "5FJQ7hM_0g2x"
      },
      "source": [
        "## **6. Keywords**"
      ]
    },
    {
      "cell_type": "code",
      "metadata": {
        "colab": {
          "base_uri": "https://localhost:8080/",
          "height": 357
        },
        "id": "cP-7a8Eu05mZ",
        "outputId": "48619f3a-3579-4908-9e2c-65f24212204a"
      },
      "source": [
        "keywords = corpus.keywords()\n",
        "keywords.save_excel('keywords.xlsx')\n",
        "keywords.df.head(10)"
      ],
      "execution_count": 31,
      "outputs": [
        {
          "output_type": "execute_result",
          "data": {
            "text/html": [
              "<div>\n",
              "<style scoped>\n",
              "    .dataframe tbody tr th:only-of-type {\n",
              "        vertical-align: middle;\n",
              "    }\n",
              "\n",
              "    .dataframe tbody tr th {\n",
              "        vertical-align: top;\n",
              "    }\n",
              "\n",
              "    .dataframe thead th {\n",
              "        text-align: right;\n",
              "    }\n",
              "</style>\n",
              "<table border=\"1\" class=\"dataframe\">\n",
              "  <thead>\n",
              "    <tr style=\"text-align: right;\">\n",
              "      <th></th>\n",
              "      <th>N</th>\n",
              "      <th>WORD</th>\n",
              "      <th>FREQUENCY</th>\n",
              "      <th>KEYNESS</th>\n",
              "    </tr>\n",
              "  </thead>\n",
              "  <tbody>\n",
              "    <tr>\n",
              "      <th>0</th>\n",
              "      <td>1</td>\n",
              "      <td>experience</td>\n",
              "      <td>198</td>\n",
              "      <td>970.11</td>\n",
              "    </tr>\n",
              "    <tr>\n",
              "      <th>1</th>\n",
              "      <td>2</td>\n",
              "      <td>skills</td>\n",
              "      <td>115</td>\n",
              "      <td>632.10</td>\n",
              "    </tr>\n",
              "    <tr>\n",
              "      <th>2</th>\n",
              "      <td>3</td>\n",
              "      <td>s</td>\n",
              "      <td>113</td>\n",
              "      <td>584.49</td>\n",
              "    </tr>\n",
              "    <tr>\n",
              "      <th>3</th>\n",
              "      <td>4</td>\n",
              "      <td>ability</td>\n",
              "      <td>83</td>\n",
              "      <td>403.57</td>\n",
              "    </tr>\n",
              "    <tr>\n",
              "      <th>4</th>\n",
              "      <td>5</td>\n",
              "      <td>and</td>\n",
              "      <td>1383</td>\n",
              "      <td>330.95</td>\n",
              "    </tr>\n",
              "    <tr>\n",
              "      <th>5</th>\n",
              "      <td>6</td>\n",
              "      <td>sales</td>\n",
              "      <td>72</td>\n",
              "      <td>312.40</td>\n",
              "    </tr>\n",
              "    <tr>\n",
              "      <th>6</th>\n",
              "      <td>7</td>\n",
              "      <td>team</td>\n",
              "      <td>85</td>\n",
              "      <td>299.72</td>\n",
              "    </tr>\n",
              "    <tr>\n",
              "      <th>7</th>\n",
              "      <td>8</td>\n",
              "      <td>corporation</td>\n",
              "      <td>50</td>\n",
              "      <td>286.42</td>\n",
              "    </tr>\n",
              "    <tr>\n",
              "      <th>8</th>\n",
              "      <td>9</td>\n",
              "      <td>requirements</td>\n",
              "      <td>56</td>\n",
              "      <td>274.56</td>\n",
              "    </tr>\n",
              "    <tr>\n",
              "      <th>9</th>\n",
              "      <td>10</td>\n",
              "      <td>management</td>\n",
              "      <td>83</td>\n",
              "      <td>267.33</td>\n",
              "    </tr>\n",
              "  </tbody>\n",
              "</table>\n",
              "</div>"
            ],
            "text/plain": [
              "    N          WORD  FREQUENCY  KEYNESS\n",
              "0   1    experience        198   970.11\n",
              "1   2        skills        115   632.10\n",
              "2   3             s        113   584.49\n",
              "3   4       ability         83   403.57\n",
              "4   5           and       1383   330.95\n",
              "5   6         sales         72   312.40\n",
              "6   7          team         85   299.72\n",
              "7   8   corporation         50   286.42\n",
              "8   9  requirements         56   274.56\n",
              "9  10    management         83   267.33"
            ]
          },
          "metadata": {
            "tags": []
          },
          "execution_count": 31
        }
      ]
    },
    {
      "cell_type": "code",
      "metadata": {
        "colab": {
          "base_uri": "https://localhost:8080/",
          "height": 357
        },
        "id": "DD-gQ5BA1OBo",
        "outputId": "b451b5d7-2ebe-403e-c95a-f08bddeecd9c"
      },
      "source": [
        "# using a stoplist\n",
        "stopwords = ['s','and']\n",
        "keywords = corpus.keywords(stoplist=stopwords)\n",
        "keywords.save_excel('keywords_stop.xlsx')\n",
        "keywords.df.head(10)  "
      ],
      "execution_count": 37,
      "outputs": [
        {
          "output_type": "execute_result",
          "data": {
            "text/html": [
              "<div>\n",
              "<style scoped>\n",
              "    .dataframe tbody tr th:only-of-type {\n",
              "        vertical-align: middle;\n",
              "    }\n",
              "\n",
              "    .dataframe tbody tr th {\n",
              "        vertical-align: top;\n",
              "    }\n",
              "\n",
              "    .dataframe thead th {\n",
              "        text-align: right;\n",
              "    }\n",
              "</style>\n",
              "<table border=\"1\" class=\"dataframe\">\n",
              "  <thead>\n",
              "    <tr style=\"text-align: right;\">\n",
              "      <th></th>\n",
              "      <th>N</th>\n",
              "      <th>WORD</th>\n",
              "      <th>FREQUENCY</th>\n",
              "      <th>KEYNESS</th>\n",
              "    </tr>\n",
              "  </thead>\n",
              "  <tbody>\n",
              "    <tr>\n",
              "      <th>0</th>\n",
              "      <td>1</td>\n",
              "      <td>experience</td>\n",
              "      <td>198</td>\n",
              "      <td>970.11</td>\n",
              "    </tr>\n",
              "    <tr>\n",
              "      <th>1</th>\n",
              "      <td>2</td>\n",
              "      <td>skills</td>\n",
              "      <td>115</td>\n",
              "      <td>632.10</td>\n",
              "    </tr>\n",
              "    <tr>\n",
              "      <th>2</th>\n",
              "      <td>3</td>\n",
              "      <td>ability</td>\n",
              "      <td>83</td>\n",
              "      <td>403.57</td>\n",
              "    </tr>\n",
              "    <tr>\n",
              "      <th>3</th>\n",
              "      <td>4</td>\n",
              "      <td>sales</td>\n",
              "      <td>72</td>\n",
              "      <td>312.40</td>\n",
              "    </tr>\n",
              "    <tr>\n",
              "      <th>4</th>\n",
              "      <td>5</td>\n",
              "      <td>team</td>\n",
              "      <td>85</td>\n",
              "      <td>299.72</td>\n",
              "    </tr>\n",
              "    <tr>\n",
              "      <th>5</th>\n",
              "      <td>6</td>\n",
              "      <td>corporation</td>\n",
              "      <td>50</td>\n",
              "      <td>286.42</td>\n",
              "    </tr>\n",
              "    <tr>\n",
              "      <th>6</th>\n",
              "      <td>7</td>\n",
              "      <td>requirements</td>\n",
              "      <td>56</td>\n",
              "      <td>274.56</td>\n",
              "    </tr>\n",
              "    <tr>\n",
              "      <th>7</th>\n",
              "      <td>8</td>\n",
              "      <td>management</td>\n",
              "      <td>83</td>\n",
              "      <td>267.33</td>\n",
              "    </tr>\n",
              "    <tr>\n",
              "      <th>8</th>\n",
              "      <td>9</td>\n",
              "      <td>marketing</td>\n",
              "      <td>46</td>\n",
              "      <td>221.21</td>\n",
              "    </tr>\n",
              "    <tr>\n",
              "      <th>9</th>\n",
              "      <td>10</td>\n",
              "      <td>degree</td>\n",
              "      <td>54</td>\n",
              "      <td>209.30</td>\n",
              "    </tr>\n",
              "  </tbody>\n",
              "</table>\n",
              "</div>"
            ],
            "text/plain": [
              "    N          WORD  FREQUENCY  KEYNESS\n",
              "0   1    experience        198   970.11\n",
              "1   2        skills        115   632.10\n",
              "2   3       ability         83   403.57\n",
              "3   4         sales         72   312.40\n",
              "4   5          team         85   299.72\n",
              "5   6   corporation         50   286.42\n",
              "6   7  requirements         56   274.56\n",
              "7   8    management         83   267.33\n",
              "8   9     marketing         46   221.21\n",
              "9  10        degree         54   209.30"
            ]
          },
          "metadata": {
            "tags": []
          },
          "execution_count": 37
        }
      ]
    },
    {
      "cell_type": "markdown",
      "metadata": {
        "id": "C4huojOK5KGx"
      },
      "source": [
        "## **7. Range**"
      ]
    },
    {
      "cell_type": "code",
      "metadata": {
        "colab": {
          "base_uri": "https://localhost:8080/",
          "height": 357
        },
        "id": "TEp_8Ily5QWQ",
        "outputId": "af9ad9c7-02de-4811-c845-380d720477dd"
      },
      "source": [
        "range = corpus.wfreqinfiles()\n",
        "range.save_excel('range.xlsx')\n",
        "range.df.head(10)"
      ],
      "execution_count": 39,
      "outputs": [
        {
          "output_type": "execute_result",
          "data": {
            "text/html": [
              "<div>\n",
              "<style scoped>\n",
              "    .dataframe tbody tr th:only-of-type {\n",
              "        vertical-align: middle;\n",
              "    }\n",
              "\n",
              "    .dataframe tbody tr th {\n",
              "        vertical-align: top;\n",
              "    }\n",
              "\n",
              "    .dataframe thead th {\n",
              "        text-align: right;\n",
              "    }\n",
              "</style>\n",
              "<table border=\"1\" class=\"dataframe\">\n",
              "  <thead>\n",
              "    <tr style=\"text-align: right;\">\n",
              "      <th></th>\n",
              "      <th>N</th>\n",
              "      <th>WORD</th>\n",
              "      <th>RANGE</th>\n",
              "      <th>%</th>\n",
              "    </tr>\n",
              "  </thead>\n",
              "  <tbody>\n",
              "    <tr>\n",
              "      <th>0</th>\n",
              "      <td>1</td>\n",
              "      <td>to</td>\n",
              "      <td>94</td>\n",
              "      <td>98.95</td>\n",
              "    </tr>\n",
              "    <tr>\n",
              "      <th>1</th>\n",
              "      <td>2</td>\n",
              "      <td>in</td>\n",
              "      <td>89</td>\n",
              "      <td>93.68</td>\n",
              "    </tr>\n",
              "    <tr>\n",
              "      <th>2</th>\n",
              "      <td>3</td>\n",
              "      <td>and</td>\n",
              "      <td>88</td>\n",
              "      <td>92.63</td>\n",
              "    </tr>\n",
              "    <tr>\n",
              "      <th>3</th>\n",
              "      <td>4</td>\n",
              "      <td>of</td>\n",
              "      <td>87</td>\n",
              "      <td>91.58</td>\n",
              "    </tr>\n",
              "    <tr>\n",
              "      <th>4</th>\n",
              "      <td>5</td>\n",
              "      <td>for</td>\n",
              "      <td>87</td>\n",
              "      <td>91.58</td>\n",
              "    </tr>\n",
              "    <tr>\n",
              "      <th>5</th>\n",
              "      <td>6</td>\n",
              "      <td>the</td>\n",
              "      <td>86</td>\n",
              "      <td>90.53</td>\n",
              "    </tr>\n",
              "    <tr>\n",
              "      <th>6</th>\n",
              "      <td>7</td>\n",
              "      <td>a</td>\n",
              "      <td>84</td>\n",
              "      <td>88.42</td>\n",
              "    </tr>\n",
              "    <tr>\n",
              "      <th>7</th>\n",
              "      <td>8</td>\n",
              "      <td>with</td>\n",
              "      <td>79</td>\n",
              "      <td>83.16</td>\n",
              "    </tr>\n",
              "    <tr>\n",
              "      <th>8</th>\n",
              "      <td>9</td>\n",
              "      <td>experience</td>\n",
              "      <td>76</td>\n",
              "      <td>80.00</td>\n",
              "    </tr>\n",
              "    <tr>\n",
              "      <th>9</th>\n",
              "      <td>10</td>\n",
              "      <td>is</td>\n",
              "      <td>73</td>\n",
              "      <td>76.84</td>\n",
              "    </tr>\n",
              "  </tbody>\n",
              "</table>\n",
              "</div>"
            ],
            "text/plain": [
              "    N        WORD  RANGE      %\n",
              "0   1          to     94  98.95\n",
              "1   2          in     89  93.68\n",
              "2   3         and     88  92.63\n",
              "3   4          of     87  91.58\n",
              "4   5         for     87  91.58\n",
              "5   6         the     86  90.53\n",
              "6   7           a     84  88.42\n",
              "7   8        with     79  83.16\n",
              "8   9  experience     76  80.00\n",
              "9  10          is     73  76.84"
            ]
          },
          "metadata": {
            "tags": []
          },
          "execution_count": 39
        }
      ]
    },
    {
      "cell_type": "markdown",
      "metadata": {
        "id": "FjjekOew5fHf"
      },
      "source": [
        "## **8. Frequency of words and tags (POS)**"
      ]
    },
    {
      "cell_type": "code",
      "metadata": {
        "colab": {
          "base_uri": "https://localhost:8080/",
          "height": 357
        },
        "id": "sClpbJpT5nlA",
        "outputId": "44456824-4b02-4ced-85c6-7dab4497a001"
      },
      "source": [
        "wt = corpus.wtfreq()\n",
        "wt.save_excel('wt.xlsx')\n",
        "wt.df.head(10)"
      ],
      "execution_count": 40,
      "outputs": [
        {
          "output_type": "execute_result",
          "data": {
            "text/html": [
              "<div>\n",
              "<style scoped>\n",
              "    .dataframe tbody tr th:only-of-type {\n",
              "        vertical-align: middle;\n",
              "    }\n",
              "\n",
              "    .dataframe tbody tr th {\n",
              "        vertical-align: top;\n",
              "    }\n",
              "\n",
              "    .dataframe thead th {\n",
              "        text-align: right;\n",
              "    }\n",
              "</style>\n",
              "<table border=\"1\" class=\"dataframe\">\n",
              "  <thead>\n",
              "    <tr style=\"text-align: right;\">\n",
              "      <th></th>\n",
              "      <th>N</th>\n",
              "      <th>WORD</th>\n",
              "      <th>TAG</th>\n",
              "      <th>FREQUENCY</th>\n",
              "      <th>%</th>\n",
              "    </tr>\n",
              "  </thead>\n",
              "  <tbody>\n",
              "    <tr>\n",
              "      <th>0</th>\n",
              "      <td>1</td>\n",
              "      <td>and</td>\n",
              "      <td>CC</td>\n",
              "      <td>1370</td>\n",
              "      <td>5.00</td>\n",
              "    </tr>\n",
              "    <tr>\n",
              "      <th>1</th>\n",
              "      <td>2</td>\n",
              "      <td>,</td>\n",
              "      <td>,</td>\n",
              "      <td>1366</td>\n",
              "      <td>4.99</td>\n",
              "    </tr>\n",
              "    <tr>\n",
              "      <th>2</th>\n",
              "      <td>3</td>\n",
              "      <td>.</td>\n",
              "      <td>.</td>\n",
              "      <td>1053</td>\n",
              "      <td>3.85</td>\n",
              "    </tr>\n",
              "    <tr>\n",
              "      <th>3</th>\n",
              "      <td>4</td>\n",
              "      <td>the</td>\n",
              "      <td>AT</td>\n",
              "      <td>611</td>\n",
              "      <td>2.23</td>\n",
              "    </tr>\n",
              "    <tr>\n",
              "      <th>4</th>\n",
              "      <td>5</td>\n",
              "      <td>of</td>\n",
              "      <td>IN</td>\n",
              "      <td>518</td>\n",
              "      <td>1.89</td>\n",
              "    </tr>\n",
              "    <tr>\n",
              "      <th>5</th>\n",
              "      <td>6</td>\n",
              "      <td>a</td>\n",
              "      <td>AT</td>\n",
              "      <td>415</td>\n",
              "      <td>1.52</td>\n",
              "    </tr>\n",
              "    <tr>\n",
              "      <th>6</th>\n",
              "      <td>7</td>\n",
              "      <td>in</td>\n",
              "      <td>IN</td>\n",
              "      <td>406</td>\n",
              "      <td>1.48</td>\n",
              "    </tr>\n",
              "    <tr>\n",
              "      <th>7</th>\n",
              "      <td>8</td>\n",
              "      <td>to</td>\n",
              "      <td>TO</td>\n",
              "      <td>355</td>\n",
              "      <td>1.30</td>\n",
              "    </tr>\n",
              "    <tr>\n",
              "      <th>8</th>\n",
              "      <td>9</td>\n",
              "      <td>:</td>\n",
              "      <td>:</td>\n",
              "      <td>334</td>\n",
              "      <td>1.22</td>\n",
              "    </tr>\n",
              "    <tr>\n",
              "      <th>9</th>\n",
              "      <td>10</td>\n",
              "      <td>to</td>\n",
              "      <td>IN</td>\n",
              "      <td>327</td>\n",
              "      <td>1.19</td>\n",
              "    </tr>\n",
              "  </tbody>\n",
              "</table>\n",
              "</div>"
            ],
            "text/plain": [
              "    N WORD TAG  FREQUENCY     %\n",
              "0   1  and  CC       1370  5.00\n",
              "1   2    ,   ,       1366  4.99\n",
              "2   3    .   .       1053  3.85\n",
              "3   4  the  AT        611  2.23\n",
              "4   5   of  IN        518  1.89\n",
              "5   6    a  AT        415  1.52\n",
              "6   7   in  IN        406  1.48\n",
              "7   8   to  TO        355  1.30\n",
              "8   9    :   :        334  1.22\n",
              "9  10   to  IN        327  1.19"
            ]
          },
          "metadata": {
            "tags": []
          },
          "execution_count": 40
        }
      ]
    }
  ]
}