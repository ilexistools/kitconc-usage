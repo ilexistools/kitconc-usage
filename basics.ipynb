{
  "nbformat": 4,
  "nbformat_minor": 0,
  "metadata": {
    "colab": {
      "name": "basics.ipynb",
      "provenance": [],
      "collapsed_sections": [],
      "authorship_tag": "ABX9TyOi7jWSVgHe22K9KN57BgLa",
      "include_colab_link": true
    },
    "kernelspec": {
      "name": "python3",
      "display_name": "Python 3"
    },
    "language_info": {
      "name": "python"
    }
  },
  "cells": [
    {
      "cell_type": "markdown",
      "metadata": {
        "id": "view-in-github",
        "colab_type": "text"
      },
      "source": [
        "<a href=\"https://colab.research.google.com/github/ilexistools/kitconc-usage/blob/main/basics.ipynb\" target=\"_parent\"><img src=\"https://colab.research.google.com/assets/colab-badge.svg\" alt=\"Open In Colab\"/></a>"
      ]
    },
    {
      "cell_type": "markdown",
      "metadata": {
        "id": "2XQcSAVYUpuA"
      },
      "source": [
        "# **Kitconc usage**\n",
        "\n",
        "Kitconc is a free package for Corpus Linguistics and text analysis with Python.\n",
        "\n",
        "It contains, among other things, tools for creating:\n",
        "\n",
        "* Corpora;\n",
        "* Frequency wordlists;\n",
        "* Keywords;\n",
        "* Concordance lines;\n",
        "* Collocates;\n",
        "* N-gram lists;\n",
        "* Dispersion plots;\n",
        "* Excel data files.\n",
        "\n",
        "The package is built on top of platforms and packages for scientific research: numpy, nltk, pandas, xlsxwriter."
      ]
    },
    {
      "cell_type": "markdown",
      "metadata": {
        "id": "kkEoKRVUV0A3"
      },
      "source": [
        "## **1. Install kitconc**\n",
        "\n",
        "We can use *pip* to install it:"
      ]
    },
    {
      "cell_type": "code",
      "metadata": {
        "id": "YwrQhVROTm61"
      },
      "source": [
        "!pip install kitconc"
      ],
      "execution_count": null,
      "outputs": []
    },
    {
      "cell_type": "markdown",
      "metadata": {
        "id": "52maG16nWn8_"
      },
      "source": [
        "## **2. Import modules**\n",
        "\n",
        "These are the main modules we are going to use:\n"
      ]
    },
    {
      "cell_type": "code",
      "metadata": {
        "id": "nlGYHObBTuU2"
      },
      "source": [
        "from kitconc.kit_corpus import Corpora, Corpus\n"
      ],
      "execution_count": null,
      "outputs": []
    },
    {
      "cell_type": "markdown",
      "metadata": {
        "id": "6qqvaJb8XBjs"
      },
      "source": [
        "## **3. Create a corpus**\n",
        "\n",
        "Here, we create a new corpus from raw texts:\n"
      ]
    },
    {
      "cell_type": "code",
      "metadata": {
        "id": "0G3F5yhvXjkJ"
      },
      "source": [
        "corpora = Corpora('workspace')\n"
      ],
      "execution_count": null,
      "outputs": []
    }
  ]
}